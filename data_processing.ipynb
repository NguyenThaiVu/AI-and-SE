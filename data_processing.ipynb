{
 "cells": [
  {
   "cell_type": "markdown",
   "id": "0db858a2",
   "metadata": {},
   "source": [
    "# Description\n",
    "\n",
    "In this notebook, I will explore and processing data"
   ]
  },
  {
   "cell_type": "code",
   "execution_count": 5,
   "id": "cbb36ef2",
   "metadata": {},
   "outputs": [],
   "source": [
    "import os \n",
    "import pandas as pd\n",
    "from sklearn.model_selection import train_test_split"
   ]
  },
  {
   "cell_type": "code",
   "execution_count": 2,
   "id": "ec834a69",
   "metadata": {},
   "outputs": [],
   "source": [
    "PATH_FILE_CSV = \"java_functions_dataset.csv\""
   ]
  },
  {
   "cell_type": "code",
   "execution_count": 3,
   "id": "dd1cf069",
   "metadata": {},
   "outputs": [
    {
     "name": "stdout",
     "output_type": "stream",
     "text": [
      "Shape of df: (32395, 11)\n"
     ]
    },
    {
     "data": {
      "text/html": [
       "<div>\n",
       "<style scoped>\n",
       "    .dataframe tbody tr th:only-of-type {\n",
       "        vertical-align: middle;\n",
       "    }\n",
       "\n",
       "    .dataframe tbody tr th {\n",
       "        vertical-align: top;\n",
       "    }\n",
       "\n",
       "    .dataframe thead th {\n",
       "        text-align: right;\n",
       "    }\n",
       "</style>\n",
       "<table border=\"1\" class=\"dataframe\">\n",
       "  <thead>\n",
       "    <tr style=\"text-align: right;\">\n",
       "      <th></th>\n",
       "      <th>repo_name</th>\n",
       "      <th>repo_url</th>\n",
       "      <th>repo_license</th>\n",
       "      <th>commit_sha</th>\n",
       "      <th>file_path</th>\n",
       "      <th>method_name</th>\n",
       "      <th>start_line</th>\n",
       "      <th>end_line</th>\n",
       "      <th>signature</th>\n",
       "      <th>original_code</th>\n",
       "      <th>code_tokens</th>\n",
       "    </tr>\n",
       "  </thead>\n",
       "  <tbody>\n",
       "    <tr>\n",
       "      <th>7765</th>\n",
       "      <td>macrozheng/mall</td>\n",
       "      <td>https://github.com/macrozheng/mall</td>\n",
       "      <td>Apache-2.0</td>\n",
       "      <td>81e082fce066c178d96c9aa181f9d4d440be7b70</td>\n",
       "      <td>mall-mbg/src/main/java/com/macro/mall/model/Sm...</td>\n",
       "      <td>andProductSnGreaterThan</td>\n",
       "      <td>377</td>\n",
       "      <td>380</td>\n",
       "      <td>public ReferenceType(arguments=None, dimension...</td>\n",
       "      <td>public Criteria andProductSnGreaterTha...</td>\n",
       "      <td>['public', 'Criteria', 'andProductSnGreaterTha...</td>\n",
       "    </tr>\n",
       "  </tbody>\n",
       "</table>\n",
       "</div>"
      ],
      "text/plain": [
       "            repo_name                            repo_url repo_license  \\\n",
       "7765  macrozheng/mall  https://github.com/macrozheng/mall   Apache-2.0   \n",
       "\n",
       "                                    commit_sha  \\\n",
       "7765  81e082fce066c178d96c9aa181f9d4d440be7b70   \n",
       "\n",
       "                                              file_path  \\\n",
       "7765  mall-mbg/src/main/java/com/macro/mall/model/Sm...   \n",
       "\n",
       "                  method_name  start_line  end_line  \\\n",
       "7765  andProductSnGreaterThan         377       380   \n",
       "\n",
       "                                              signature  \\\n",
       "7765  public ReferenceType(arguments=None, dimension...   \n",
       "\n",
       "                                          original_code  \\\n",
       "7765          public Criteria andProductSnGreaterTha...   \n",
       "\n",
       "                                            code_tokens  \n",
       "7765  ['public', 'Criteria', 'andProductSnGreaterTha...  "
      ]
     },
     "execution_count": 3,
     "metadata": {},
     "output_type": "execute_result"
    }
   ],
   "source": [
    "df = pd.read_csv(PATH_FILE_CSV)\n",
    "print(f\"Shape of df: {df.shape}\")\n",
    "df.sample()"
   ]
  },
  {
   "cell_type": "code",
   "execution_count": null,
   "id": "b51b1b3d",
   "metadata": {},
   "outputs": [],
   "source": []
  },
  {
   "cell_type": "code",
   "execution_count": 4,
   "id": "4e5ed691",
   "metadata": {},
   "outputs": [],
   "source": [
    "TEST_PERCENT = 0.2"
   ]
  },
  {
   "cell_type": "code",
   "execution_count": 6,
   "id": "55e605cf",
   "metadata": {},
   "outputs": [],
   "source": [
    "train_df, test_df = train_test_split(df, test_size=TEST_PERCENT, random_state=42, shuffle=True)\n",
    "\n",
    "train_df.to_csv(\"java_method_train.csv\", index=False)\n",
    "test_df.to_csv(\"java_method_test.csv\", index=False)"
   ]
  },
  {
   "cell_type": "code",
   "execution_count": null,
   "id": "385e97ca",
   "metadata": {},
   "outputs": [],
   "source": []
  }
 ],
 "metadata": {
  "kernelspec": {
   "display_name": "ds_env",
   "language": "python",
   "name": "python3"
  },
  "language_info": {
   "codemirror_mode": {
    "name": "ipython",
    "version": 3
   },
   "file_extension": ".py",
   "mimetype": "text/x-python",
   "name": "python",
   "nbconvert_exporter": "python",
   "pygments_lexer": "ipython3",
   "version": "3.11.13"
  }
 },
 "nbformat": 4,
 "nbformat_minor": 5
}
