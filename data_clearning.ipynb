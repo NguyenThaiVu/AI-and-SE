{
 "cells": [
  {
   "cell_type": "markdown",
   "id": "3094585c",
   "metadata": {},
   "source": [
    "# Description\n",
    "\n",
    "In this notebook, I will load - explore - clean data. "
   ]
  },
  {
   "cell_type": "code",
   "execution_count": 1,
   "id": "09e42e47",
   "metadata": {},
   "outputs": [],
   "source": [
    "import os \n",
    "import numpy as np\n",
    "import pandas as pd\n",
    "import requests\n",
    "import re\n",
    "from dotenv import load_dotenv"
   ]
  },
  {
   "cell_type": "code",
   "execution_count": 4,
   "id": "f28809bf",
   "metadata": {},
   "outputs": [],
   "source": [
    "PATH_CSV_DATA = \"java_functions_dataset.csv\""
   ]
  },
  {
   "cell_type": "markdown",
   "id": "215c78ca",
   "metadata": {},
   "source": [
    "# 1. Load data"
   ]
  },
  {
   "cell_type": "code",
   "execution_count": 5,
   "id": "d492fc24",
   "metadata": {},
   "outputs": [
    {
     "name": "stdout",
     "output_type": "stream",
     "text": [
      "Shape of data: (942, 11)\n"
     ]
    },
    {
     "data": {
      "text/html": [
       "<div>\n",
       "<style scoped>\n",
       "    .dataframe tbody tr th:only-of-type {\n",
       "        vertical-align: middle;\n",
       "    }\n",
       "\n",
       "    .dataframe tbody tr th {\n",
       "        vertical-align: top;\n",
       "    }\n",
       "\n",
       "    .dataframe thead th {\n",
       "        text-align: right;\n",
       "    }\n",
       "</style>\n",
       "<table border=\"1\" class=\"dataframe\">\n",
       "  <thead>\n",
       "    <tr style=\"text-align: right;\">\n",
       "      <th></th>\n",
       "      <th>repo_name</th>\n",
       "      <th>repo_url</th>\n",
       "      <th>repo_license</th>\n",
       "      <th>commit_sha</th>\n",
       "      <th>file_path</th>\n",
       "      <th>method_name</th>\n",
       "      <th>start_line</th>\n",
       "      <th>end_line</th>\n",
       "      <th>signature</th>\n",
       "      <th>original_code</th>\n",
       "      <th>code_tokens</th>\n",
       "    </tr>\n",
       "  </thead>\n",
       "  <tbody>\n",
       "    <tr>\n",
       "      <th>691</th>\n",
       "      <td>krahets/hello-algo</td>\n",
       "      <td>https://github.com/krahets/hello-algo</td>\n",
       "      <td>NOASSERTION</td>\n",
       "      <td>5f7385c8a326768c63837805174b1b1667b447ab</td>\n",
       "      <td>zh-hant/codes/java/chapter_computational_compl...</td>\n",
       "      <td>buildTree</td>\n",
       "      <td>86</td>\n",
       "      <td>92</td>\n",
       "      <td>static ReferenceType(arguments=None, dimension...</td>\n",
       "      <td>static TreeNode buildTree(int n) {\\n      ...</td>\n",
       "      <td>['static', 'TreeNode', 'buildTree(int', 'n)', ...</td>\n",
       "    </tr>\n",
       "    <tr>\n",
       "      <th>165</th>\n",
       "      <td>krahets/hello-algo</td>\n",
       "      <td>https://github.com/krahets/hello-algo</td>\n",
       "      <td>NOASSERTION</td>\n",
       "      <td>a005c6ebd306ffeb0125332e72a3621e2b777b2a</td>\n",
       "      <td>codes/java/chapter_hashing/hash_map_chaining.java</td>\n",
       "      <td>put</td>\n",
       "      <td>57</td>\n",
       "      <td>74</td>\n",
       "      <td>None put(BasicType(dimensions=[], name=int), ...</td>\n",
       "      <td>void put(int key, String val) {\\n        /...</td>\n",
       "      <td>['void', 'put(int', 'key,', 'String', 'val)', ...</td>\n",
       "    </tr>\n",
       "  </tbody>\n",
       "</table>\n",
       "</div>"
      ],
      "text/plain": [
       "              repo_name                               repo_url repo_license  \\\n",
       "691  krahets/hello-algo  https://github.com/krahets/hello-algo  NOASSERTION   \n",
       "165  krahets/hello-algo  https://github.com/krahets/hello-algo  NOASSERTION   \n",
       "\n",
       "                                   commit_sha  \\\n",
       "691  5f7385c8a326768c63837805174b1b1667b447ab   \n",
       "165  a005c6ebd306ffeb0125332e72a3621e2b777b2a   \n",
       "\n",
       "                                             file_path method_name  \\\n",
       "691  zh-hant/codes/java/chapter_computational_compl...   buildTree   \n",
       "165  codes/java/chapter_hashing/hash_map_chaining.java         put   \n",
       "\n",
       "     start_line  end_line                                          signature  \\\n",
       "691          86        92  static ReferenceType(arguments=None, dimension...   \n",
       "165          57        74   None put(BasicType(dimensions=[], name=int), ...   \n",
       "\n",
       "                                         original_code  \\\n",
       "691      static TreeNode buildTree(int n) {\\n      ...   \n",
       "165      void put(int key, String val) {\\n        /...   \n",
       "\n",
       "                                           code_tokens  \n",
       "691  ['static', 'TreeNode', 'buildTree(int', 'n)', ...  \n",
       "165  ['void', 'put(int', 'key,', 'String', 'val)', ...  "
      ]
     },
     "execution_count": 5,
     "metadata": {},
     "output_type": "execute_result"
    }
   ],
   "source": [
    "df = pd.read_csv(PATH_CSV_DATA)\n",
    "print(f\"Shape of data: {df.shape}\")\n",
    "df.sample(2)"
   ]
  },
  {
   "cell_type": "code",
   "execution_count": null,
   "id": "95fec8f1",
   "metadata": {},
   "outputs": [],
   "source": []
  },
  {
   "cell_type": "markdown",
   "id": "d94c6a5b",
   "metadata": {},
   "source": [
    "# 2. Explore data"
   ]
  },
  {
   "cell_type": "code",
   "execution_count": null,
   "id": "42f9ff1c",
   "metadata": {},
   "outputs": [],
   "source": []
  },
  {
   "cell_type": "markdown",
   "id": "ed616c65",
   "metadata": {},
   "source": [
    "# 3. Cleaning data"
   ]
  },
  {
   "cell_type": "code",
   "execution_count": null,
   "id": "3c5f2715",
   "metadata": {},
   "outputs": [],
   "source": []
  }
 ],
 "metadata": {
  "kernelspec": {
   "display_name": "ds_env",
   "language": "python",
   "name": "python3"
  },
  "language_info": {
   "codemirror_mode": {
    "name": "ipython",
    "version": 3
   },
   "file_extension": ".py",
   "mimetype": "text/x-python",
   "name": "python",
   "nbconvert_exporter": "python",
   "pygments_lexer": "ipython3",
   "version": "3.10.4"
  }
 },
 "nbformat": 4,
 "nbformat_minor": 5
}
