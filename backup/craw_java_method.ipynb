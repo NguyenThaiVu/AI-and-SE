{
 "cells": [
  {
   "cell_type": "markdown",
   "id": "89292aab",
   "metadata": {},
   "source": [
    "# Description\n",
    "\n",
    "In this notebook, I will use Python to craw 20_000 java method."
   ]
  },
  {
   "cell_type": "code",
   "execution_count": 1,
   "id": "32198339",
   "metadata": {},
   "outputs": [],
   "source": [
    "import argparse\n",
    "import csv\n",
    "import json\n",
    "import os\n",
    "import re\n",
    "import sys\n",
    "import time\n",
    "from pathlib import Path\n",
    "from typing import Dict, Iterable, List, Optional\n",
    "import requests\n",
    "import zipfile\n",
    "import pandas as pd\n",
    "from pathlib import Path\n",
    "import javalang"
   ]
  },
  {
   "cell_type": "code",
   "execution_count": 2,
   "id": "5a40743c",
   "metadata": {},
   "outputs": [],
   "source": [
    "TOKEN = os.getenv(\"GITHUB_TOKEN\")\n",
    "if not TOKEN:\n",
    "    raise SystemExit(\"❌ Please set GITHUB_TOKEN in your environment.\")\n",
    "\n",
    "HEADERS = {\"Authorization\": f\"Bearer {TOKEN}\",\n",
    "           \"Accept\": \"application/vnd.github+json\"}"
   ]
  },
  {
   "cell_type": "markdown",
   "id": "fbe0881d",
   "metadata": {},
   "source": [
    "# 1. Download Java repos"
   ]
  },
  {
   "cell_type": "code",
   "execution_count": 3,
   "id": "e0403299",
   "metadata": {},
   "outputs": [],
   "source": [
    "def search_java_repos(n=5, min_star=50):\n",
    "    \"\"\"Search Java repos (top starred).\"\"\"\n",
    "    url = \"https://api.github.com/search/repositories\"\n",
    "    params = {\"q\": f\"language:Java stars:>{min_star}\", \"sort\": \"stars\", \"order\": \"desc\", \"per_page\": n}\n",
    "    r = requests.get(url, headers=HEADERS, params=params, timeout=30)\n",
    "    r.raise_for_status()\n",
    "    return r.json()[\"items\"]\n",
    "\n",
    "def download_zip(owner, repo, branch, dest):\n",
    "    \"\"\"Download repo as zipball.\"\"\"\n",
    "    url = f\"https://api.github.com/repos/{owner}/{repo}/zipball/{branch}\"\n",
    "    r = requests.get(url, headers=HEADERS, stream=True, timeout=60)\n",
    "    r.raise_for_status()\n",
    "    path = dest / f\"{owner}-{repo}.zip\"\n",
    "    with open(path, \"wb\") as f:\n",
    "        for chunk in r.iter_content(1024 * 256):\n",
    "            f.write(chunk)\n",
    "    return path\n",
    "\n",
    "def unzip_file(zip_path, dest):\n",
    "    extract_dir = dest / zip_path.stem\n",
    "    with zipfile.ZipFile(zip_path, \"r\") as z:\n",
    "        z.extractall(extract_dir)\n",
    "    return extract_dir"
   ]
  },
  {
   "cell_type": "markdown",
   "id": "6d56c747",
   "metadata": {},
   "source": [
    "Download top repos with highest star"
   ]
  },
  {
   "cell_type": "code",
   "execution_count": 4,
   "id": "a4be7590",
   "metadata": {},
   "outputs": [],
   "source": [
    "MAX_REPOS = 5\n",
    "MIN_NUM_STARS = 50\n",
    "\n",
    "base_dir = Path(\"java_repos\")\n",
    "base_dir.mkdir(exist_ok=True)"
   ]
  },
  {
   "cell_type": "code",
   "execution_count": 5,
   "id": "733a6e1f",
   "metadata": {},
   "outputs": [],
   "source": [
    "repos = search_java_repos(MAX_REPOS, MIN_NUM_STARS) "
   ]
  },
  {
   "cell_type": "code",
   "execution_count": 7,
   "id": "e040bdaa",
   "metadata": {},
   "outputs": [
    {
     "name": "stdout",
     "output_type": "stream",
     "text": [
      "Found 5 repos.\n"
     ]
    }
   ],
   "source": [
    "# Save repos infor to a json file\n",
    "with open(base_dir / \"repos.json\", \"w\") as f:\n",
    "    json.dump(repos, f, indent=2)\n",
    "print(f\"Found {len(repos)} repos.\")"
   ]
  },
  {
   "cell_type": "code",
   "execution_count": null,
   "id": "d1eb6e3b",
   "metadata": {},
   "outputs": [],
   "source": []
  },
  {
   "cell_type": "code",
   "execution_count": null,
   "id": "8a2d5fb1",
   "metadata": {},
   "outputs": [],
   "source": [
    "%%time\n",
    "repos = search_java_repos(MAX_REPOS, MIN_NUM_STARS) \n",
    "\n",
    "for repo in repos:\n",
    "    owner = repo[\"owner\"][\"login\"]\n",
    "    name = repo[\"name\"]\n",
    "    branch = repo[\"default_branch\"]\n",
    "    print(f\"Downloading {owner}/{name}...\")\n",
    "    zip_path = download_zip(owner, name, branch, base_dir)\n",
    "    folder = unzip_file(zip_path, base_dir)\n",
    "    print(f\"Saved {owner}/{name} into {folder}\\n\")\n",
    "    time.sleep(1)  "
   ]
  },
  {
   "cell_type": "code",
   "execution_count": null,
   "id": "bdc326ed",
   "metadata": {},
   "outputs": [],
   "source": []
  },
  {
   "cell_type": "markdown",
   "id": "dd9021f1",
   "metadata": {},
   "source": [
    "# 2. Parse java method from repos"
   ]
  },
  {
   "cell_type": "code",
   "execution_count": 35,
   "id": "b8c67eca",
   "metadata": {},
   "outputs": [],
   "source": [
    "ROOT = Path(\"java_repos\")          # parent folder containing repos\n",
    "OUT  = Path(\"methods.csv\")         # output file"
   ]
  },
  {
   "cell_type": "code",
   "execution_count": 36,
   "metadata": {},
   "outputs": [],
   "source": [
    "def type_name(t):\n",
    "    if t is None: return \"void\"\n",
    "    name = getattr(t, \"name\", str(t))\n",
    "    if getattr(t, \"dimensions\", None):\n",
    "        name += \"[]\" * len(t.dimensions)\n",
    "    return name\n",
    "\n",
    "def params_sig(params):\n",
    "    parts = []\n",
    "    for p in params or []:\n",
    "        ty = type_name(p.type)\n",
    "        if getattr(p, \"varargs\", False): ty += \"...\"\n",
    "        parts.append(f\"{ty} {p.name}\")\n",
    "    return \", \".join(parts)\n",
    "\n",
    "def find_method_code(src, start_line):\n",
    "    \"\"\"Grab code lines for a method (rough, brace-based).\"\"\"\n",
    "    lines = src.splitlines()\n",
    "    if not start_line or start_line > len(lines):\n",
    "        return start_line, start_line, \"\"\n",
    "    i = start_line - 1\n",
    "    # find first '{'\n",
    "    while i < len(lines) and '{' not in lines[i]:\n",
    "        i += 1\n",
    "    if i >= len(lines):\n",
    "        return start_line, start_line, \"\"\n",
    "    depth, j = 0, i\n",
    "    code_lines = []\n",
    "    while j < len(lines):\n",
    "        line = lines[j]\n",
    "        if \"{\" in line: depth += line.count(\"{\")\n",
    "        if \"}\" in line: depth -= line.count(\"}\")\n",
    "        code_lines.append(line)\n",
    "        if depth == 0 and \"}\" in line:\n",
    "            break\n",
    "        j += 1\n",
    "    return start_line, j + 1, \"\\n\".join(code_lines)\n",
    "\n",
    "def parse_file(java_file, writer, repo_name, repo_url):\n",
    "    src = java_file.read_text(encoding=\"utf-8\", errors=\"ignore\")\n",
    "    try:\n",
    "        tree = javalang.parse.parse(src)\n",
    "    except:\n",
    "        return\n",
    "    for _, m in tree.filter(javalang.tree.MethodDeclaration):\n",
    "        sig = f\"{' '.join(sorted(m.modifiers or []))} {type_name(m.return_type)} {m.name}({params_sig(m.parameters)})\".strip()\n",
    "        start, end, code = find_method_code(src, getattr(m.position, \"line\", None))\n",
    "        writer.writerow([\n",
    "            repo_name, repo_url, \"\", str(java_file),\n",
    "            m.name, start or \"\", end or \"\", sig, code.strip()\n",
    "        ])\n"
   ]
  },
  {
   "cell_type": "code",
   "execution_count": 37,
   "metadata": {},
   "outputs": [
    {
     "name": "stdout",
     "output_type": "stream",
     "text": [
      "✅ Done. Wrote methods.csv\n"
     ]
    }
   ],
   "source": [
    "with OUT.open(\"w\", newline=\"\", encoding=\"utf-8\") as f:\n",
    "    writer = csv.writer(f)\n",
    "    writer.writerow([\n",
    "        \"repo_name\",\"repo_url\",\"commit_sha\",\"file_path\",\n",
    "        \"method_name\",\"start_line\",\"end_line\",\"signature\",\"original_code\"\n",
    "    ])\n",
    "    for repo_dir in ROOT.iterdir():\n",
    "        if repo_dir.is_dir():\n",
    "            repo_name = repo_dir.name\n",
    "            repo_url  = f\"https://github.com/{repo_name.replace('-', '/')}\"\n",
    "            for java_file in repo_dir.rglob(\"*.java\"):\n",
    "                parse_file(java_file, writer, repo_name, repo_url)\n",
    "\n",
    "print(f\"✅ Done. Wrote {OUT}\")"
   ]
  },
  {
   "cell_type": "code",
   "execution_count": null,
   "id": "96731cf4",
   "metadata": {},
   "outputs": [],
   "source": []
  },
  {
   "cell_type": "markdown",
   "id": "19150255",
   "metadata": {},
   "source": [
    "Test the craw file"
   ]
  },
  {
   "cell_type": "code",
   "execution_count": 39,
   "id": "09ecfe24",
   "metadata": {},
   "outputs": [
    {
     "name": "stdout",
     "output_type": "stream",
     "text": [
      "Total methods: 53016\n"
     ]
    },
    {
     "data": {
      "text/html": [
       "<div>\n",
       "<style scoped>\n",
       "    .dataframe tbody tr th:only-of-type {\n",
       "        vertical-align: middle;\n",
       "    }\n",
       "\n",
       "    .dataframe tbody tr th {\n",
       "        vertical-align: top;\n",
       "    }\n",
       "\n",
       "    .dataframe thead th {\n",
       "        text-align: right;\n",
       "    }\n",
       "</style>\n",
       "<table border=\"1\" class=\"dataframe\">\n",
       "  <thead>\n",
       "    <tr style=\"text-align: right;\">\n",
       "      <th></th>\n",
       "      <th>repo_name</th>\n",
       "      <th>repo_url</th>\n",
       "      <th>commit_sha</th>\n",
       "      <th>file_path</th>\n",
       "      <th>method_name</th>\n",
       "      <th>start_line</th>\n",
       "      <th>end_line</th>\n",
       "      <th>signature</th>\n",
       "      <th>original_code</th>\n",
       "    </tr>\n",
       "  </thead>\n",
       "  <tbody>\n",
       "    <tr>\n",
       "      <th>0</th>\n",
       "      <td>spring-projects-spring-boot</td>\n",
       "      <td>https://github.com/spring/projects/spring/boot</td>\n",
       "      <td>NaN</td>\n",
       "      <td>java_repos/spring-projects-spring-boot/spring-...</td>\n",
       "      <td>load</td>\n",
       "      <td>37</td>\n",
       "      <td>41</td>\n",
       "      <td>static Changelog load()</td>\n",
       "      <td>static Changelog load() {\\n\\t\\tConfigurationMe...</td>\n",
       "    </tr>\n",
       "    <tr>\n",
       "      <th>1</th>\n",
       "      <td>spring-projects-spring-boot</td>\n",
       "      <td>https://github.com/spring/projects/spring/boot</td>\n",
       "      <td>NaN</td>\n",
       "      <td>java_repos/spring-projects-spring-boot/spring-...</td>\n",
       "      <td>load</td>\n",
       "      <td>43</td>\n",
       "      <td>50</td>\n",
       "      <td>private static ConfigurationMetadataRepository...</td>\n",
       "      <td>private static ConfigurationMetadataRepository...</td>\n",
       "    </tr>\n",
       "    <tr>\n",
       "      <th>2</th>\n",
       "      <td>spring-projects-spring-boot</td>\n",
       "      <td>https://github.com/spring/projects/spring/boot</td>\n",
       "      <td>NaN</td>\n",
       "      <td>java_repos/spring-projects-spring-boot/spring-...</td>\n",
       "      <td>generateChangeLog</td>\n",
       "      <td>44</td>\n",
       "      <td>54</td>\n",
       "      <td>void generateChangeLog()</td>\n",
       "      <td>void generateChangeLog() throws IOException {\\...</td>\n",
       "    </tr>\n",
       "    <tr>\n",
       "      <th>3</th>\n",
       "      <td>spring-projects-spring-boot</td>\n",
       "      <td>https://github.com/spring/projects/spring/boot</td>\n",
       "      <td>NaN</td>\n",
       "      <td>java_repos/spring-projects-spring-boot/spring-...</td>\n",
       "      <td>addJar</td>\n",
       "      <td>56</td>\n",
       "      <td>66</td>\n",
       "      <td>private void addJar(File directory, String fil...</td>\n",
       "      <td>private void addJar(File directory, String fil...</td>\n",
       "    </tr>\n",
       "    <tr>\n",
       "      <th>4</th>\n",
       "      <td>spring-projects-spring-boot</td>\n",
       "      <td>https://github.com/spring/projects/spring/boot</td>\n",
       "      <td>NaN</td>\n",
       "      <td>java_repos/spring-projects-spring-boot/spring-...</td>\n",
       "      <td>diffContainsDifferencesBetweenLeftAndRightInputs</td>\n",
       "      <td>37</td>\n",
       "      <td>66</td>\n",
       "      <td>void diffContainsDifferencesBetweenLeftAndRigh...</td>\n",
       "      <td>void diffContainsDifferencesBetweenLeftAndRigh...</td>\n",
       "    </tr>\n",
       "  </tbody>\n",
       "</table>\n",
       "</div>"
      ],
      "text/plain": [
       "                     repo_name  \\\n",
       "0  spring-projects-spring-boot   \n",
       "1  spring-projects-spring-boot   \n",
       "2  spring-projects-spring-boot   \n",
       "3  spring-projects-spring-boot   \n",
       "4  spring-projects-spring-boot   \n",
       "\n",
       "                                         repo_url  commit_sha  \\\n",
       "0  https://github.com/spring/projects/spring/boot         NaN   \n",
       "1  https://github.com/spring/projects/spring/boot         NaN   \n",
       "2  https://github.com/spring/projects/spring/boot         NaN   \n",
       "3  https://github.com/spring/projects/spring/boot         NaN   \n",
       "4  https://github.com/spring/projects/spring/boot         NaN   \n",
       "\n",
       "                                           file_path  \\\n",
       "0  java_repos/spring-projects-spring-boot/spring-...   \n",
       "1  java_repos/spring-projects-spring-boot/spring-...   \n",
       "2  java_repos/spring-projects-spring-boot/spring-...   \n",
       "3  java_repos/spring-projects-spring-boot/spring-...   \n",
       "4  java_repos/spring-projects-spring-boot/spring-...   \n",
       "\n",
       "                                        method_name  start_line  end_line  \\\n",
       "0                                              load          37        41   \n",
       "1                                              load          43        50   \n",
       "2                                 generateChangeLog          44        54   \n",
       "3                                            addJar          56        66   \n",
       "4  diffContainsDifferencesBetweenLeftAndRightInputs          37        66   \n",
       "\n",
       "                                           signature  \\\n",
       "0                            static Changelog load()   \n",
       "1  private static ConfigurationMetadataRepository...   \n",
       "2                           void generateChangeLog()   \n",
       "3  private void addJar(File directory, String fil...   \n",
       "4  void diffContainsDifferencesBetweenLeftAndRigh...   \n",
       "\n",
       "                                       original_code  \n",
       "0  static Changelog load() {\\n\\t\\tConfigurationMe...  \n",
       "1  private static ConfigurationMetadataRepository...  \n",
       "2  void generateChangeLog() throws IOException {\\...  \n",
       "3  private void addJar(File directory, String fil...  \n",
       "4  void diffContainsDifferencesBetweenLeftAndRigh...  "
      ]
     },
     "execution_count": 39,
     "metadata": {},
     "output_type": "execute_result"
    }
   ],
   "source": [
    "df = pd.read_csv(\"methods.csv\")\n",
    "print(f\"Total methods: {len(df)}\")\n",
    "df.head()"
   ]
  },
  {
   "cell_type": "code",
   "execution_count": null,
   "id": "dd29eacf",
   "metadata": {},
   "outputs": [],
   "source": []
  }
 ],
 "metadata": {
  "kernelspec": {
   "display_name": "ds_env",
   "language": "python",
   "name": "python3"
  },
  "language_info": {
   "codemirror_mode": {
    "name": "ipython",
    "version": 3
   },
   "file_extension": ".py",
   "mimetype": "text/x-python",
   "name": "python",
   "nbconvert_exporter": "python",
   "pygments_lexer": "ipython3",
   "version": "3.11.13"
  }
 },
 "nbformat": 4,
 "nbformat_minor": 5
}
